{
  "nbformat": 4,
  "nbformat_minor": 0,
  "metadata": {
    "colab": {
      "name": "ANN_RESERVOIR DATA__test1.ipynb",
      "provenance": [],
      "authorship_tag": "ABX9TyP3LNV0FmeM8CldXxi3i8F2",
      "include_colab_link": true
    },
    "kernelspec": {
      "name": "python3",
      "display_name": "Python 3"
    },
    "language_info": {
      "name": "python"
    }
  },
  "cells": [
    {
      "cell_type": "markdown",
      "metadata": {
        "id": "view-in-github",
        "colab_type": "text"
      },
      "source": [
        "<a href=\"https://colab.research.google.com/github/M-PRERNA/wave-to-web-hack-concept-note/blob/main/ANN_RESERVOIR_DATA__test1.ipynb\" target=\"_parent\"><img src=\"https://colab.research.google.com/assets/colab-badge.svg\" alt=\"Open In Colab\"/></a>"
      ]
    },
    {
      "cell_type": "markdown",
      "metadata": {
        "id": "7Ax6mEg4TQpy"
      },
      "source": [
        "# Importing the libraries"
      ]
    },
    {
      "cell_type": "code",
      "metadata": {
        "id": "pGATskNMI3-k"
      },
      "source": [
        "import numpy as np\n",
        "import matplotlib.pyplot as plt\n",
        "import pandas as pd"
      ],
      "execution_count": 1,
      "outputs": []
    },
    {
      "cell_type": "markdown",
      "metadata": {
        "id": "hel9sZ6zpihx"
      },
      "source": [
        "# Importing dataset"
      ]
    },
    {
      "cell_type": "code",
      "metadata": {
        "id": "44InBPk-o-Y9"
      },
      "source": [
        "dataset = pd.read_csv(\"Harangi.csv\")"
      ],
      "execution_count": 2,
      "outputs": []
    },
    {
      "cell_type": "code",
      "metadata": {
        "colab": {
          "base_uri": "https://localhost:8080/",
          "height": 286
        },
        "id": "cUCYlMSOpw8I",
        "outputId": "b31ee2c2-aef5-427a-9707-69406f9bf35f"
      },
      "source": [
        "dataset.head()"
      ],
      "execution_count": 3,
      "outputs": [
        {
          "output_type": "execute_result",
          "data": {
            "text/html": [
              "<div>\n",
              "<style scoped>\n",
              "    .dataframe tbody tr th:only-of-type {\n",
              "        vertical-align: middle;\n",
              "    }\n",
              "\n",
              "    .dataframe tbody tr th {\n",
              "        vertical-align: top;\n",
              "    }\n",
              "\n",
              "    .dataframe thead th {\n",
              "        text-align: right;\n",
              "    }\n",
              "</style>\n",
              "<table border=\"1\" class=\"dataframe\">\n",
              "  <thead>\n",
              "    <tr style=\"text-align: right;\">\n",
              "      <th></th>\n",
              "      <th>SL_NO</th>\n",
              "      <th>RESERVOIR</th>\n",
              "      <th>YEAR</th>\n",
              "      <th>WEEK_NO</th>\n",
              "      <th>FLOW_DATE</th>\n",
              "      <th>PRESENT_STORAGE_TMC</th>\n",
              "      <th>RES_LEVEL_FT</th>\n",
              "      <th>INFLOW_CUSECS</th>\n",
              "      <th>OUTFLOW_CUECS</th>\n",
              "      <th>UNIQUE_KEY</th>\n",
              "    </tr>\n",
              "  </thead>\n",
              "  <tbody>\n",
              "    <tr>\n",
              "      <th>0</th>\n",
              "      <td>37</td>\n",
              "      <td>Harangi</td>\n",
              "      <td>2011</td>\n",
              "      <td>1</td>\n",
              "      <td>2011-01-01</td>\n",
              "      <td>3.74</td>\n",
              "      <td>2835.90</td>\n",
              "      <td>142</td>\n",
              "      <td>0</td>\n",
              "      <td>HARANGI-2011-01-01</td>\n",
              "    </tr>\n",
              "    <tr>\n",
              "      <th>1</th>\n",
              "      <td>38</td>\n",
              "      <td>Harangi</td>\n",
              "      <td>2011</td>\n",
              "      <td>1</td>\n",
              "      <td>2011-01-02</td>\n",
              "      <td>3.76</td>\n",
              "      <td>2836.09</td>\n",
              "      <td>239</td>\n",
              "      <td>0</td>\n",
              "      <td>HARANGI-2011-01-02</td>\n",
              "    </tr>\n",
              "    <tr>\n",
              "      <th>2</th>\n",
              "      <td>39</td>\n",
              "      <td>Harangi</td>\n",
              "      <td>2011</td>\n",
              "      <td>1</td>\n",
              "      <td>2011-01-03</td>\n",
              "      <td>3.77</td>\n",
              "      <td>2836.22</td>\n",
              "      <td>166</td>\n",
              "      <td>0</td>\n",
              "      <td>HARANGI-2011-01-03</td>\n",
              "    </tr>\n",
              "    <tr>\n",
              "      <th>3</th>\n",
              "      <td>40</td>\n",
              "      <td>Harangi</td>\n",
              "      <td>2011</td>\n",
              "      <td>1</td>\n",
              "      <td>2011-01-04</td>\n",
              "      <td>3.78</td>\n",
              "      <td>2836.31</td>\n",
              "      <td>118</td>\n",
              "      <td>0</td>\n",
              "      <td>HARANGI-2011-01-04</td>\n",
              "    </tr>\n",
              "    <tr>\n",
              "      <th>4</th>\n",
              "      <td>41</td>\n",
              "      <td>Harangi</td>\n",
              "      <td>2011</td>\n",
              "      <td>1</td>\n",
              "      <td>2011-01-05</td>\n",
              "      <td>3.79</td>\n",
              "      <td>2836.41</td>\n",
              "      <td>130</td>\n",
              "      <td>0</td>\n",
              "      <td>HARANGI-2011-01-05</td>\n",
              "    </tr>\n",
              "  </tbody>\n",
              "</table>\n",
              "</div>"
            ],
            "text/plain": [
              "   SL_NO RESERVOIR  YEAR  ...  INFLOW_CUSECS OUTFLOW_CUECS          UNIQUE_KEY\n",
              "0     37   Harangi  2011  ...            142             0  HARANGI-2011-01-01\n",
              "1     38   Harangi  2011  ...            239             0  HARANGI-2011-01-02\n",
              "2     39   Harangi  2011  ...            166             0  HARANGI-2011-01-03\n",
              "3     40   Harangi  2011  ...            118             0  HARANGI-2011-01-04\n",
              "4     41   Harangi  2011  ...            130             0  HARANGI-2011-01-05\n",
              "\n",
              "[5 rows x 10 columns]"
            ]
          },
          "metadata": {
            "tags": []
          },
          "execution_count": 3
        }
      ]
    },
    {
      "cell_type": "code",
      "metadata": {
        "colab": {
          "base_uri": "https://localhost:8080/",
          "height": 286
        },
        "id": "L5HQE6kyeyVm",
        "outputId": "5f4b3f65-a06f-4e4d-c232-b3860ae447af"
      },
      "source": [
        "dataset.tail()"
      ],
      "execution_count": 13,
      "outputs": [
        {
          "output_type": "execute_result",
          "data": {
            "text/html": [
              "<div>\n",
              "<style scoped>\n",
              "    .dataframe tbody tr th:only-of-type {\n",
              "        vertical-align: middle;\n",
              "    }\n",
              "\n",
              "    .dataframe tbody tr th {\n",
              "        vertical-align: top;\n",
              "    }\n",
              "\n",
              "    .dataframe thead th {\n",
              "        text-align: right;\n",
              "    }\n",
              "</style>\n",
              "<table border=\"1\" class=\"dataframe\">\n",
              "  <thead>\n",
              "    <tr style=\"text-align: right;\">\n",
              "      <th></th>\n",
              "      <th>SL_NO</th>\n",
              "      <th>RESERVOIR</th>\n",
              "      <th>YEAR</th>\n",
              "      <th>WEEK_NO</th>\n",
              "      <th>FLOW_DATE</th>\n",
              "      <th>PRESENT_STORAGE_TMC</th>\n",
              "      <th>RES_LEVEL_FT</th>\n",
              "      <th>INFLOW_CUSECS</th>\n",
              "      <th>OUTFLOW_CUECS</th>\n",
              "      <th>UNIQUE_KEY</th>\n",
              "    </tr>\n",
              "  </thead>\n",
              "  <tbody>\n",
              "    <tr>\n",
              "      <th>3316</th>\n",
              "      <td>43901</td>\n",
              "      <td>Harangi</td>\n",
              "      <td>2020</td>\n",
              "      <td>50</td>\n",
              "      <td>2020-12-12</td>\n",
              "      <td>3.24</td>\n",
              "      <td>2828.07</td>\n",
              "      <td>239</td>\n",
              "      <td>770</td>\n",
              "      <td>HARANGI-2020-12-12</td>\n",
              "    </tr>\n",
              "    <tr>\n",
              "      <th>3317</th>\n",
              "      <td>43902</td>\n",
              "      <td>Harangi</td>\n",
              "      <td>2020</td>\n",
              "      <td>50</td>\n",
              "      <td>2020-12-13</td>\n",
              "      <td>3.19</td>\n",
              "      <td>2827.13</td>\n",
              "      <td>221</td>\n",
              "      <td>770</td>\n",
              "      <td>HARANGI-2020-12-13</td>\n",
              "    </tr>\n",
              "    <tr>\n",
              "      <th>3318</th>\n",
              "      <td>43903</td>\n",
              "      <td>Harangi</td>\n",
              "      <td>2020</td>\n",
              "      <td>50</td>\n",
              "      <td>2020-12-14</td>\n",
              "      <td>3.14</td>\n",
              "      <td>2826.17</td>\n",
              "      <td>220</td>\n",
              "      <td>760</td>\n",
              "      <td>HARANGI-2020-12-14</td>\n",
              "    </tr>\n",
              "    <tr>\n",
              "      <th>3319</th>\n",
              "      <td>43904</td>\n",
              "      <td>Harangi</td>\n",
              "      <td>2020</td>\n",
              "      <td>50</td>\n",
              "      <td>2020-12-15</td>\n",
              "      <td>3.10</td>\n",
              "      <td>2825.39</td>\n",
              "      <td>217</td>\n",
              "      <td>660</td>\n",
              "      <td>HARANGI-2020-12-15</td>\n",
              "    </tr>\n",
              "    <tr>\n",
              "      <th>3320</th>\n",
              "      <td>43905</td>\n",
              "      <td>Harangi</td>\n",
              "      <td>2020</td>\n",
              "      <td>50</td>\n",
              "      <td>2020-12-16</td>\n",
              "      <td>3.07</td>\n",
              "      <td>2824.65</td>\n",
              "      <td>219</td>\n",
              "      <td>640</td>\n",
              "      <td>HARANGI-2020-12-16</td>\n",
              "    </tr>\n",
              "  </tbody>\n",
              "</table>\n",
              "</div>"
            ],
            "text/plain": [
              "      SL_NO RESERVOIR  YEAR  ...  INFLOW_CUSECS OUTFLOW_CUECS          UNIQUE_KEY\n",
              "3316  43901   Harangi  2020  ...            239           770  HARANGI-2020-12-12\n",
              "3317  43902   Harangi  2020  ...            221           770  HARANGI-2020-12-13\n",
              "3318  43903   Harangi  2020  ...            220           760  HARANGI-2020-12-14\n",
              "3319  43904   Harangi  2020  ...            217           660  HARANGI-2020-12-15\n",
              "3320  43905   Harangi  2020  ...            219           640  HARANGI-2020-12-16\n",
              "\n",
              "[5 rows x 10 columns]"
            ]
          },
          "metadata": {
            "tags": []
          },
          "execution_count": 13
        }
      ]
    },
    {
      "cell_type": "code",
      "metadata": {
        "colab": {
          "base_uri": "https://localhost:8080/"
        },
        "id": "9QJ69LyOdk0i",
        "outputId": "34b63b1b-6148-4dd9-a6da-975b5d9550f5"
      },
      "source": [
        "dataset.dtypes"
      ],
      "execution_count": 11,
      "outputs": [
        {
          "output_type": "execute_result",
          "data": {
            "text/plain": [
              "SL_NO                    int64\n",
              "RESERVOIR               object\n",
              "YEAR                     int64\n",
              "WEEK_NO                  int64\n",
              "FLOW_DATE               object\n",
              "PRESENT_STORAGE_TMC    float64\n",
              "RES_LEVEL_FT            object\n",
              "INFLOW_CUSECS           object\n",
              "OUTFLOW_CUECS           object\n",
              "UNIQUE_KEY              object\n",
              "dtype: object"
            ]
          },
          "metadata": {
            "tags": []
          },
          "execution_count": 11
        }
      ]
    },
    {
      "cell_type": "code",
      "metadata": {
        "id": "BpPZRDBGduBO"
      },
      "source": [
        "# dataset['RES_LEVEL_FT'] = dataset['RES_LEVEL_FT'].astype(int)\n",
        "dataset['RES_LEVEL_FT'] = pd.to_numeric(dataset['RES_LEVEL_FT'] ,errors='coerce')\n",
        "dataset['INFLOW_CUSECS'] = pd.to_numeric(dataset['INFLOW_CUSECS'] ,errors='coerce')\n",
        "dataset['OUTFLOW_CUECS'] = pd.to_numeric(dataset['OUTFLOW_CUECS'],errors='coerce')"
      ],
      "execution_count": 15,
      "outputs": []
    },
    {
      "cell_type": "code",
      "metadata": {
        "colab": {
          "base_uri": "https://localhost:8080/"
        },
        "id": "mIno1YXkfRyl",
        "outputId": "bcc5fc4a-97ef-4bc3-ea2e-26c52163bf1c"
      },
      "source": [
        "dataset.dtypes"
      ],
      "execution_count": 17,
      "outputs": [
        {
          "output_type": "execute_result",
          "data": {
            "text/plain": [
              "SL_NO                    int64\n",
              "RESERVOIR               object\n",
              "YEAR                     int64\n",
              "WEEK_NO                  int64\n",
              "FLOW_DATE               object\n",
              "PRESENT_STORAGE_TMC    float64\n",
              "RES_LEVEL_FT           float64\n",
              "INFLOW_CUSECS          float64\n",
              "OUTFLOW_CUECS          float64\n",
              "UNIQUE_KEY              object\n",
              "dtype: object"
            ]
          },
          "metadata": {
            "tags": []
          },
          "execution_count": 17
        }
      ]
    },
    {
      "cell_type": "code",
      "metadata": {
        "colab": {
          "base_uri": "https://localhost:8080/"
        },
        "id": "JSWlOAFXig3t",
        "outputId": "9542134d-79c0-436b-821a-0a090891641e"
      },
      "source": [
        "dataset.isnull().sum()"
      ],
      "execution_count": 18,
      "outputs": [
        {
          "output_type": "execute_result",
          "data": {
            "text/plain": [
              "SL_NO                  0\n",
              "RESERVOIR              0\n",
              "YEAR                   0\n",
              "WEEK_NO                0\n",
              "FLOW_DATE              0\n",
              "PRESENT_STORAGE_TMC    0\n",
              "RES_LEVEL_FT           1\n",
              "INFLOW_CUSECS          1\n",
              "OUTFLOW_CUECS          1\n",
              "UNIQUE_KEY             0\n",
              "dtype: int64"
            ]
          },
          "metadata": {
            "tags": []
          },
          "execution_count": 18
        }
      ]
    },
    {
      "cell_type": "markdown",
      "metadata": {
        "id": "Sni8IB7eqI2i"
      },
      "source": [
        "# Features and labels"
      ]
    },
    {
      "cell_type": "code",
      "metadata": {
        "id": "qsW3pcTxpzPZ"
      },
      "source": [
        "X = dataset.iloc[:,[2,3,7,8]].values # year week_no inflow outflow"
      ],
      "execution_count": 20,
      "outputs": []
    },
    {
      "cell_type": "code",
      "metadata": {
        "colab": {
          "base_uri": "https://localhost:8080/"
        },
        "id": "jNMa6u5qqfSa",
        "outputId": "c9bd722e-69a7-46d4-b787-81a1f4de03ce"
      },
      "source": [
        "X"
      ],
      "execution_count": 21,
      "outputs": [
        {
          "output_type": "execute_result",
          "data": {
            "text/plain": [
              "array([[2.011e+03, 1.000e+00, 1.420e+02, 0.000e+00],\n",
              "       [2.011e+03, 1.000e+00, 2.390e+02, 0.000e+00],\n",
              "       [2.011e+03, 1.000e+00, 1.660e+02, 0.000e+00],\n",
              "       ...,\n",
              "       [2.020e+03, 5.000e+01, 2.200e+02, 7.600e+02],\n",
              "       [2.020e+03, 5.000e+01, 2.170e+02, 6.600e+02],\n",
              "       [2.020e+03, 5.000e+01, 2.190e+02, 6.400e+02]])"
            ]
          },
          "metadata": {
            "tags": []
          },
          "execution_count": 21
        }
      ]
    },
    {
      "cell_type": "code",
      "metadata": {
        "id": "GFHwYqnnqgqh"
      },
      "source": [
        "Y = dataset.iloc[:,6].values #RES_LEVEL_FT"
      ],
      "execution_count": 22,
      "outputs": []
    },
    {
      "cell_type": "code",
      "metadata": {
        "colab": {
          "base_uri": "https://localhost:8080/"
        },
        "id": "oOJWd8cmrFjj",
        "outputId": "810d6755-8fd6-4135-d991-307ff12432e5"
      },
      "source": [
        "Y"
      ],
      "execution_count": 23,
      "outputs": [
        {
          "output_type": "execute_result",
          "data": {
            "text/plain": [
              "array([2835.9 , 2836.09, 2836.22, ..., 2826.17, 2825.39, 2824.65])"
            ]
          },
          "metadata": {
            "tags": []
          },
          "execution_count": 23
        }
      ]
    },
    {
      "cell_type": "markdown",
      "metadata": {
        "id": "QsN5ddfIjAhd"
      },
      "source": [
        "filling the missing values"
      ]
    },
    {
      "cell_type": "code",
      "metadata": {
        "id": "AafF_w67sI2G"
      },
      "source": [
        "from sklearn.impute import SimpleImputer\n",
        "imputer = SimpleImputer(missing_values= np.nan,strategy='mean') \n",
        "imputer.fit(X[:,2:])\n",
        "X[:,2:] = imputer.transform(X[:,2:]) \n",
        "imputer.fit(Y[:,None])\n",
        "Y[:,None]= imputer.transform(Y[:,None])\n"
      ],
      "execution_count": 31,
      "outputs": []
    },
    {
      "cell_type": "code",
      "metadata": {
        "id": "HGilD0vPqkum"
      },
      "source": [
        "from sklearn.model_selection import train_test_split\n",
        "X_train, X_test, Y_train, Y_test = train_test_split(X, Y, test_size = 0.2, random_state = 0)"
      ],
      "execution_count": 33,
      "outputs": []
    },
    {
      "cell_type": "code",
      "metadata": {
        "id": "h2bOUbeoqz2x"
      },
      "source": [
        "from sklearn.preprocessing import StandardScaler\n",
        "sc = StandardScaler()\n",
        "X_train = sc.fit_transform(X_train)\n",
        "X_test = sc.transform(X_test)"
      ],
      "execution_count": 34,
      "outputs": []
    },
    {
      "cell_type": "code",
      "metadata": {
        "id": "eki9ga1Dq8nK"
      },
      "source": [
        "import keras\n",
        "from keras.models import Sequential\n",
        "from keras.layers import Dense\n",
        "classifier = Sequential()\n",
        "classifier.add(Dense(10,  activation = 'relu', input_dim = 4))\n",
        "classifier.add(Dense(20,  activation = 'relu'))\n",
        "classifier.add(Dense(30,  activation = 'relu'))\n",
        "classifier.add(Dense(20,  activation = 'relu'))\n",
        "classifier.add(Dense(1,  activation = 'softmax'))"
      ],
      "execution_count": 70,
      "outputs": []
    },
    {
      "cell_type": "code",
      "metadata": {
        "id": "LXHIXh7DzPYp"
      },
      "source": [
        "classifier.compile(optimizer = 'adam', \n",
        "                   loss = 'mean_squared_error',\n",
        "                   metrics=['mean_squared_error'])"
      ],
      "execution_count": 71,
      "outputs": []
    },
    {
      "cell_type": "code",
      "metadata": {
        "colab": {
          "base_uri": "https://localhost:8080/"
        },
        "id": "J40hFUv54FNn",
        "outputId": "f388725c-6def-4109-d7d5-162eae14f071"
      },
      "source": [
        "classifier.fit(X_train,Y_train, batch_size = 32, epochs = 100)"
      ],
      "execution_count": 72,
      "outputs": [
        {
          "output_type": "stream",
          "text": [
            "Epoch 1/100\n",
            "83/83 [==============================] - 1s 1ms/step - loss: 8002291.0952 - mean_squared_error: 8002291.0952\n",
            "Epoch 2/100\n",
            "83/83 [==============================] - 0s 1ms/step - loss: 8001397.9643 - mean_squared_error: 8001397.9643\n",
            "Epoch 3/100\n",
            "83/83 [==============================] - 0s 1ms/step - loss: 7998716.0952 - mean_squared_error: 7998716.0952\n",
            "Epoch 4/100\n",
            "83/83 [==============================] - 0s 1ms/step - loss: 7998470.6131 - mean_squared_error: 7998470.6131\n",
            "Epoch 5/100\n",
            "83/83 [==============================] - 0s 1ms/step - loss: 8003403.9048 - mean_squared_error: 8003403.9048\n",
            "Epoch 6/100\n",
            "83/83 [==============================] - 0s 1ms/step - loss: 7996645.0298 - mean_squared_error: 7996645.0298\n",
            "Epoch 7/100\n",
            "83/83 [==============================] - 0s 1ms/step - loss: 7996803.9881 - mean_squared_error: 7996803.9881\n",
            "Epoch 8/100\n",
            "83/83 [==============================] - 0s 1ms/step - loss: 8002241.6905 - mean_squared_error: 8002241.6905\n",
            "Epoch 9/100\n",
            "83/83 [==============================] - 0s 1ms/step - loss: 7999106.1071 - mean_squared_error: 7999106.1071\n",
            "Epoch 10/100\n",
            "83/83 [==============================] - 0s 1ms/step - loss: 7999469.1548 - mean_squared_error: 7999469.1548\n",
            "Epoch 11/100\n",
            "83/83 [==============================] - 0s 1ms/step - loss: 7997716.5357 - mean_squared_error: 7997716.5357\n",
            "Epoch 12/100\n",
            "83/83 [==============================] - 0s 1ms/step - loss: 8002290.9583 - mean_squared_error: 8002290.9583\n",
            "Epoch 13/100\n",
            "83/83 [==============================] - 0s 1ms/step - loss: 7999771.3274 - mean_squared_error: 7999771.3274\n",
            "Epoch 14/100\n",
            "83/83 [==============================] - 0s 1ms/step - loss: 8001163.3333 - mean_squared_error: 8001163.3333\n",
            "Epoch 15/100\n",
            "83/83 [==============================] - 0s 1ms/step - loss: 7999271.0536 - mean_squared_error: 7999271.0536\n",
            "Epoch 16/100\n",
            "83/83 [==============================] - 0s 1ms/step - loss: 8001119.9345 - mean_squared_error: 8001119.9345\n",
            "Epoch 17/100\n",
            "83/83 [==============================] - 0s 1ms/step - loss: 8004107.9583 - mean_squared_error: 8004107.9583\n",
            "Epoch 18/100\n",
            "83/83 [==============================] - 0s 1ms/step - loss: 8001081.5476 - mean_squared_error: 8001081.5476\n",
            "Epoch 19/100\n",
            "83/83 [==============================] - 0s 1ms/step - loss: 8001559.8750 - mean_squared_error: 8001559.8750\n",
            "Epoch 20/100\n",
            "83/83 [==============================] - 0s 1ms/step - loss: 7999632.0298 - mean_squared_error: 7999632.0298\n",
            "Epoch 21/100\n",
            "83/83 [==============================] - 0s 1ms/step - loss: 8003241.3988 - mean_squared_error: 8003241.3988\n",
            "Epoch 22/100\n",
            "83/83 [==============================] - 0s 1ms/step - loss: 8000638.1488 - mean_squared_error: 8000638.1488\n",
            "Epoch 23/100\n",
            "83/83 [==============================] - 0s 1ms/step - loss: 7996276.2917 - mean_squared_error: 7996276.2917\n",
            "Epoch 24/100\n",
            "83/83 [==============================] - 0s 1ms/step - loss: 8000537.5298 - mean_squared_error: 8000537.5298\n",
            "Epoch 25/100\n",
            "83/83 [==============================] - 0s 1ms/step - loss: 8001347.6905 - mean_squared_error: 8001347.6905\n",
            "Epoch 26/100\n",
            "83/83 [==============================] - 0s 1ms/step - loss: 8001861.2857 - mean_squared_error: 8001861.2857\n",
            "Epoch 27/100\n",
            "83/83 [==============================] - 0s 2ms/step - loss: 8005306.1667 - mean_squared_error: 8005306.1667\n",
            "Epoch 28/100\n",
            "83/83 [==============================] - 0s 1ms/step - loss: 7997322.3274 - mean_squared_error: 7997322.3274\n",
            "Epoch 29/100\n",
            "83/83 [==============================] - 0s 1ms/step - loss: 8000041.4286 - mean_squared_error: 8000041.4286\n",
            "Epoch 30/100\n",
            "83/83 [==============================] - 0s 1ms/step - loss: 7997295.1964 - mean_squared_error: 7997295.1964\n",
            "Epoch 31/100\n",
            "83/83 [==============================] - 0s 1ms/step - loss: 8000202.0357 - mean_squared_error: 8000202.0357\n",
            "Epoch 32/100\n",
            "83/83 [==============================] - 0s 1ms/step - loss: 8004163.3214 - mean_squared_error: 8004163.3214\n",
            "Epoch 33/100\n",
            "83/83 [==============================] - 0s 1ms/step - loss: 8001069.5833 - mean_squared_error: 8001069.5833\n",
            "Epoch 34/100\n",
            "83/83 [==============================] - 0s 1ms/step - loss: 7999102.0417 - mean_squared_error: 7999102.0417\n",
            "Epoch 35/100\n",
            "83/83 [==============================] - 0s 1ms/step - loss: 8003944.6131 - mean_squared_error: 8003944.6131\n",
            "Epoch 36/100\n",
            "83/83 [==============================] - 0s 1ms/step - loss: 8002258.8155 - mean_squared_error: 8002258.8155\n",
            "Epoch 37/100\n",
            "83/83 [==============================] - 0s 1ms/step - loss: 8004367.2917 - mean_squared_error: 8004367.2917\n",
            "Epoch 38/100\n",
            "83/83 [==============================] - 0s 1ms/step - loss: 7997372.5298 - mean_squared_error: 7997372.5298\n",
            "Epoch 39/100\n",
            "83/83 [==============================] - 0s 1ms/step - loss: 8001444.3750 - mean_squared_error: 8001444.3750\n",
            "Epoch 40/100\n",
            "83/83 [==============================] - 0s 1ms/step - loss: 7999248.4226 - mean_squared_error: 7999248.4226\n",
            "Epoch 41/100\n",
            "83/83 [==============================] - 0s 1ms/step - loss: 7999194.8810 - mean_squared_error: 7999194.8810\n",
            "Epoch 42/100\n",
            "83/83 [==============================] - 0s 1ms/step - loss: 7999874.0476 - mean_squared_error: 7999874.0476\n",
            "Epoch 43/100\n",
            "83/83 [==============================] - 0s 2ms/step - loss: 7999380.2024 - mean_squared_error: 7999380.2024\n",
            "Epoch 44/100\n",
            "83/83 [==============================] - 0s 1ms/step - loss: 8002286.2143 - mean_squared_error: 8002286.2143\n",
            "Epoch 45/100\n",
            "83/83 [==============================] - 0s 1ms/step - loss: 8002174.5536 - mean_squared_error: 8002174.5536\n",
            "Epoch 46/100\n",
            "83/83 [==============================] - 0s 1ms/step - loss: 8000633.2083 - mean_squared_error: 8000633.2083\n",
            "Epoch 47/100\n",
            "83/83 [==============================] - 0s 1ms/step - loss: 7999468.1190 - mean_squared_error: 7999468.1190\n",
            "Epoch 48/100\n",
            "83/83 [==============================] - 0s 1ms/step - loss: 8004133.8214 - mean_squared_error: 8004133.8214\n",
            "Epoch 49/100\n",
            "83/83 [==============================] - 0s 1ms/step - loss: 7999922.8036 - mean_squared_error: 7999922.8036\n",
            "Epoch 50/100\n",
            "83/83 [==============================] - 0s 1ms/step - loss: 8002441.5655 - mean_squared_error: 8002441.5655\n",
            "Epoch 51/100\n",
            "83/83 [==============================] - 0s 1ms/step - loss: 7998360.5238 - mean_squared_error: 7998360.5238\n",
            "Epoch 52/100\n",
            "83/83 [==============================] - 0s 1ms/step - loss: 7997011.6488 - mean_squared_error: 7997011.6488\n",
            "Epoch 53/100\n",
            "83/83 [==============================] - 0s 1ms/step - loss: 7997249.0774 - mean_squared_error: 7997249.0774\n",
            "Epoch 54/100\n",
            "83/83 [==============================] - 0s 1ms/step - loss: 8000988.4107 - mean_squared_error: 8000988.4107\n",
            "Epoch 55/100\n",
            "83/83 [==============================] - 0s 1ms/step - loss: 8001583.2440 - mean_squared_error: 8001583.2440\n",
            "Epoch 56/100\n",
            "83/83 [==============================] - 0s 1ms/step - loss: 7999941.0417 - mean_squared_error: 7999941.0417\n",
            "Epoch 57/100\n",
            "83/83 [==============================] - 0s 1ms/step - loss: 7999545.7679 - mean_squared_error: 7999545.7679\n",
            "Epoch 58/100\n",
            "83/83 [==============================] - 0s 1ms/step - loss: 7999681.5893 - mean_squared_error: 7999681.5893\n",
            "Epoch 59/100\n",
            "83/83 [==============================] - 0s 1ms/step - loss: 8001827.2857 - mean_squared_error: 8001827.2857\n",
            "Epoch 60/100\n",
            "83/83 [==============================] - 0s 1ms/step - loss: 8000242.5952 - mean_squared_error: 8000242.5952\n",
            "Epoch 61/100\n",
            "83/83 [==============================] - 0s 1ms/step - loss: 8001401.5774 - mean_squared_error: 8001401.5774\n",
            "Epoch 62/100\n",
            "83/83 [==============================] - 0s 1ms/step - loss: 8001155.7262 - mean_squared_error: 8001155.7262\n",
            "Epoch 63/100\n",
            "83/83 [==============================] - 0s 1ms/step - loss: 7996119.6726 - mean_squared_error: 7996119.6726\n",
            "Epoch 64/100\n",
            "83/83 [==============================] - 0s 1ms/step - loss: 8002241.7917 - mean_squared_error: 8002241.7917\n",
            "Epoch 65/100\n",
            "83/83 [==============================] - 0s 1ms/step - loss: 7999397.6786 - mean_squared_error: 7999397.6786\n",
            "Epoch 66/100\n",
            "83/83 [==============================] - 0s 1ms/step - loss: 7997390.7560 - mean_squared_error: 7997390.7560\n",
            "Epoch 67/100\n",
            "83/83 [==============================] - 0s 1ms/step - loss: 8001427.7738 - mean_squared_error: 8001427.7738\n",
            "Epoch 68/100\n",
            "83/83 [==============================] - 0s 1ms/step - loss: 8001246.2381 - mean_squared_error: 8001246.2381\n",
            "Epoch 69/100\n",
            "83/83 [==============================] - 0s 1ms/step - loss: 7999269.4167 - mean_squared_error: 7999269.4167\n",
            "Epoch 70/100\n",
            "83/83 [==============================] - 0s 1ms/step - loss: 7998491.7143 - mean_squared_error: 7998491.7143\n",
            "Epoch 71/100\n",
            "83/83 [==============================] - 0s 1ms/step - loss: 8000846.2500 - mean_squared_error: 8000846.2500\n",
            "Epoch 72/100\n",
            "83/83 [==============================] - 0s 1ms/step - loss: 8000476.8750 - mean_squared_error: 8000476.8750\n",
            "Epoch 73/100\n",
            "83/83 [==============================] - 0s 1ms/step - loss: 8004117.7024 - mean_squared_error: 8004117.7024\n",
            "Epoch 74/100\n",
            "83/83 [==============================] - 0s 1ms/step - loss: 8001197.4702 - mean_squared_error: 8001197.4702\n",
            "Epoch 75/100\n",
            "83/83 [==============================] - 0s 1ms/step - loss: 8002424.8929 - mean_squared_error: 8002424.8929\n",
            "Epoch 76/100\n",
            "83/83 [==============================] - 0s 1ms/step - loss: 8001611.1667 - mean_squared_error: 8001611.1667\n",
            "Epoch 77/100\n",
            "83/83 [==============================] - 0s 1ms/step - loss: 8002572.0774 - mean_squared_error: 8002572.0774\n",
            "Epoch 78/100\n",
            "83/83 [==============================] - 0s 1ms/step - loss: 7999284.2500 - mean_squared_error: 7999284.2500\n",
            "Epoch 79/100\n",
            "83/83 [==============================] - 0s 1ms/step - loss: 8002014.9345 - mean_squared_error: 8002014.9345\n",
            "Epoch 80/100\n",
            "83/83 [==============================] - 0s 1ms/step - loss: 8001782.8869 - mean_squared_error: 8001782.8869\n",
            "Epoch 81/100\n",
            "83/83 [==============================] - 0s 1ms/step - loss: 7998145.4821 - mean_squared_error: 7998145.4821\n",
            "Epoch 82/100\n",
            "83/83 [==============================] - 0s 1ms/step - loss: 7999738.1429 - mean_squared_error: 7999738.1429\n",
            "Epoch 83/100\n",
            "83/83 [==============================] - 0s 1ms/step - loss: 8003937.1667 - mean_squared_error: 8003937.1667\n",
            "Epoch 84/100\n",
            "83/83 [==============================] - 0s 1ms/step - loss: 8000099.9524 - mean_squared_error: 8000099.9524\n",
            "Epoch 85/100\n",
            "83/83 [==============================] - 0s 2ms/step - loss: 7996965.1607 - mean_squared_error: 7996965.1607\n",
            "Epoch 86/100\n",
            "83/83 [==============================] - 0s 1ms/step - loss: 8000914.0298 - mean_squared_error: 8000914.0298\n",
            "Epoch 87/100\n",
            "83/83 [==============================] - 0s 1ms/step - loss: 8004071.9702 - mean_squared_error: 8004071.9702\n",
            "Epoch 88/100\n",
            "83/83 [==============================] - 0s 1ms/step - loss: 7999091.0655 - mean_squared_error: 7999091.0655\n",
            "Epoch 89/100\n",
            "83/83 [==============================] - 0s 1ms/step - loss: 8000159.2202 - mean_squared_error: 8000159.2202\n",
            "Epoch 90/100\n",
            "83/83 [==============================] - 0s 2ms/step - loss: 7998654.3333 - mean_squared_error: 7998654.3333\n",
            "Epoch 91/100\n",
            "83/83 [==============================] - 0s 1ms/step - loss: 8005027.5714 - mean_squared_error: 8005027.5714\n",
            "Epoch 92/100\n",
            "83/83 [==============================] - 0s 1ms/step - loss: 7998702.0714 - mean_squared_error: 7998702.0714\n",
            "Epoch 93/100\n",
            "83/83 [==============================] - 0s 1ms/step - loss: 8000668.1369 - mean_squared_error: 8000668.1369\n",
            "Epoch 94/100\n",
            "83/83 [==============================] - 0s 1ms/step - loss: 8001319.7024 - mean_squared_error: 8001319.7024\n",
            "Epoch 95/100\n",
            "83/83 [==============================] - 0s 1ms/step - loss: 8000785.0952 - mean_squared_error: 8000785.0952\n",
            "Epoch 96/100\n",
            "83/83 [==============================] - 0s 1ms/step - loss: 8003088.7976 - mean_squared_error: 8003088.7976\n",
            "Epoch 97/100\n",
            "83/83 [==============================] - 0s 1ms/step - loss: 8004341.9286 - mean_squared_error: 8004341.9286\n",
            "Epoch 98/100\n",
            "83/83 [==============================] - 0s 1ms/step - loss: 7998117.7440 - mean_squared_error: 7998117.7440\n",
            "Epoch 99/100\n",
            "83/83 [==============================] - 0s 1ms/step - loss: 7995632.9464 - mean_squared_error: 7995632.9464\n",
            "Epoch 100/100\n",
            "83/83 [==============================] - 0s 1ms/step - loss: 8001752.2738 - mean_squared_error: 8001752.2738\n"
          ],
          "name": "stdout"
        },
        {
          "output_type": "execute_result",
          "data": {
            "text/plain": [
              "<tensorflow.python.keras.callbacks.History at 0x7f1597a44610>"
            ]
          },
          "metadata": {
            "tags": []
          },
          "execution_count": 72
        }
      ]
    },
    {
      "cell_type": "code",
      "metadata": {
        "id": "fKfH0zL44Zl1"
      },
      "source": [
        ""
      ],
      "execution_count": null,
      "outputs": []
    }
  ]
}